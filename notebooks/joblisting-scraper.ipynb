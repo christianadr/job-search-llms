{
 "cells": [
  {
   "cell_type": "code",
   "execution_count": 1,
   "metadata": {},
   "outputs": [
    {
     "ename": "ModuleNotFoundError",
     "evalue": "No module named 'src.scraper'",
     "output_type": "error",
     "traceback": [
      "\u001b[1;31m---------------------------------------------------------------------------\u001b[0m",
      "\u001b[1;31mModuleNotFoundError\u001b[0m                       Traceback (most recent call last)",
      "Cell \u001b[1;32mIn[1], line 1\u001b[0m\n\u001b[1;32m----> 1\u001b[0m \u001b[38;5;28;01mfrom\u001b[39;00m \u001b[38;5;21;01msrc\u001b[39;00m\u001b[38;5;21;01m.\u001b[39;00m\u001b[38;5;21;01mscraper\u001b[39;00m \u001b[38;5;28;01mimport\u001b[39;00m scrape_job_listings\n\u001b[0;32m      3\u001b[0m keywords \u001b[38;5;241m=\u001b[39m [\n\u001b[0;32m      4\u001b[0m     \u001b[38;5;124m\"\u001b[39m\u001b[38;5;124mSales Associate\u001b[39m\u001b[38;5;124m\"\u001b[39m,\n\u001b[0;32m      5\u001b[0m     \u001b[38;5;124m\"\u001b[39m\u001b[38;5;124mCashier\u001b[39m\u001b[38;5;124m\"\u001b[39m,\n\u001b[1;32m   (...)\u001b[0m\n\u001b[0;32m     51\u001b[0m \t\u001b[38;5;124m\"\u001b[39m\u001b[38;5;124mOnsite Event Support\u001b[39m\u001b[38;5;124m\"\u001b[39m,\n\u001b[0;32m     52\u001b[0m ]\n",
      "\u001b[1;31mModuleNotFoundError\u001b[0m: No module named 'src.scraper'"
     ]
    }
   ],
   "source": [
    "from src.scraper import scrape_job_listings\n",
    "\n",
    "keywords = [\n",
    "    \"Sales Associate\",\n",
    "    \"Cashier\",\n",
    "    \"Merchandisers\",\n",
    "    \"Store Assistance\",\n",
    "    \"Call Center Agents\",\n",
    "    \"Customer Support Relative\",\n",
    "    \"Food Server\",\n",
    "    \"Kitchen Staff\",\n",
    "    \"Hotel Attendants\",\n",
    "    \"General Laborers\",\n",
    "    \"Helpers\",\n",
    "    \"Skilled Trade Assistants\",\n",
    "    \"Household Helper\",\n",
    "    \"Caregiver\",\n",
    "    \"Street Vending\",\n",
    "    \"Peddling Goods\",\n",
    "    \"Product Line Workers\",\n",
    "    \"Machine Operators\",\n",
    "    \"Security Guard Services\",\n",
    "    \"Security Personnel\",\n",
    "    \"Delivery Driver\",\n",
    "    \"Warehouse Worker\",\n",
    "    \"Packaging\",\n",
    "    \"Sorting\",\n",
    "    \"Inventory Management\",\n",
    "    \"Childcare Assistant\",\n",
    "    \"Data Entry Clerk\",\n",
    "    \"Entry-Level Tradesperson\",\n",
    "    \"Fitness Instructor\",\n",
    "    \"Event Staff\",\n",
    "    \"Event Setup\",\n",
    "\t\"Crowd Management\",\n",
    "\t\"Audio and Visual Support\",\n",
    "    \"Photography Assistant\",\n",
    "    \"Photographer\",\n",
    "\t\"Photo Editing\",\n",
    "\t\"Equipment Setup\",\n",
    "    \"Research Assistant\",\n",
    "    \"Social Service Aid\",\n",
    "    \"Outreach\",\n",
    "\t\"Resource Coordinator\",\n",
    "\t\"Client Assistant\",\n",
    "    \"Pet Caretaker\",\n",
    "    \"Event Planning Assistant\",\n",
    "    \"Venue Scouting\",\n",
    "\t\"Logistics Coordinator\",\n",
    "\t\"Vendor Management\",\n",
    "\t\"Onsite Event Support\",\n",
    "]"
   ]
  },
  {
   "cell_type": "code",
   "execution_count": null,
   "metadata": {},
   "outputs": [],
   "source": []
  }
 ],
 "metadata": {
  "kernelspec": {
   "display_name": "gpu",
   "language": "python",
   "name": "python3"
  },
  "language_info": {
   "codemirror_mode": {
    "name": "ipython",
    "version": 3
   },
   "file_extension": ".py",
   "mimetype": "text/x-python",
   "name": "python",
   "nbconvert_exporter": "python",
   "pygments_lexer": "ipython3",
   "version": "3.10.13"
  }
 },
 "nbformat": 4,
 "nbformat_minor": 2
}
